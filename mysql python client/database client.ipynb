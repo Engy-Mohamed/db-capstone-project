{
 "cells": [
  {
   "cell_type": "code",
   "execution_count": 1,
   "id": "5055e67c-a23c-43eb-b47d-294176e0a0c9",
   "metadata": {},
   "outputs": [
    {
     "name": "stdout",
     "output_type": "stream",
     "text": [
      "Requirement already satisfied: mysql-connector-python in c:\\users\\mama\\appdata\\local\\programs\\python\\python38\\lib\\site-packages (8.1.0)\n",
      "Requirement already satisfied: protobuf<=4.21.12,>=4.21.1 in c:\\users\\mama\\appdata\\local\\programs\\python\\python38\\lib\\site-packages (from mysql-connector-python) (4.21.12)\n"
     ]
    },
    {
     "name": "stderr",
     "output_type": "stream",
     "text": [
      "\n",
      "[notice] A new release of pip is available: 23.2.1 -> 23.3.1\n",
      "[notice] To update, run: python.exe -m pip install --upgrade pip\n"
     ]
    }
   ],
   "source": [
    "!pip install mysql-connector-python"
   ]
  },
  {
   "cell_type": "code",
   "execution_count": 2,
   "id": "96394a60-54bf-4cec-a0b5-8cd2516a7a52",
   "metadata": {},
   "outputs": [],
   "source": [
    "import mysql.connector as connector"
   ]
  },
  {
   "cell_type": "code",
   "execution_count": 3,
   "id": "523cd08e-73f2-4952-925c-d0fa535fadcb",
   "metadata": {},
   "outputs": [],
   "source": [
    "connection = connector.connect(user = \"admin\", password = \"Admin_123\")\n",
    " "
   ]
  },
  {
   "cell_type": "code",
   "execution_count": 4,
   "id": "22560a93-82bd-470d-ba7d-fde74402ba7e",
   "metadata": {},
   "outputs": [
    {
     "name": "stdout",
     "output_type": "stream",
     "text": [
      "table name\n",
      "bookings\n",
      "contactdetails\n",
      "customerdetails\n",
      "menuitems\n",
      "menus\n",
      "orderdeliverystatus\n",
      "orders\n",
      "ordersview\n",
      "staffinformation\n"
     ]
    }
   ],
   "source": [
    "cursor = connection.cursor()\n",
    "cursor.execute(\"USE littlelemondb\") \n",
    "show_tables_query = \"SHOW tables;\" \n",
    "cursor.execute(show_tables_query)\n",
    "result = cursor.fetchall()\n",
    "print('table name')\n",
    "for r in result:\n",
    "    print(r[0])"
   ]
  },
  {
   "cell_type": "code",
   "execution_count": 12,
   "id": "2ca5e131-eb39-4e35-ac3f-0d9c0c3f84ae",
   "metadata": {},
   "outputs": [
    {
     "name": "stdout",
     "output_type": "stream",
     "text": [
      "('FullName', 'ContactNumber', 'PaidAmount')\n",
      "Vanessa McCarthy 34558879 250.00\n",
      "Anna Iversen 22558879 200.00\n",
      "Marcos Romero 34888879 150.00\n",
      "Hiroki Yamane 333558879 110.00\n"
     ]
    }
   ],
   "source": [
    "show_tables_query = '''select customerdetails.FullName , contactdetails.ContactNumber,orders.TotalCost as PaidAmount\n",
    "                        from orders inner join Bookings on Orders.BookingID=Bookings.BookingID inner join customerdetails\n",
    "                        on Bookings.CustomerDetailsID=customerdetails.CustomerDetailsID inner join contactdetails\n",
    "                        on customerdetails.CustomerDetailsID=contactdetails.CustomerDetailsID\n",
    "                        where orders.TotalCost > 70 ''' \n",
    "cursor.execute(show_tables_query)\n",
    "results = cursor.fetchall()\n",
    "columns=cursor.column_names\n",
    "print(columns)\n",
    "for result in results:\n",
    "    print(result[0],result[1],result[2])"
   ]
  },
  {
   "cell_type": "code",
   "execution_count": null,
   "id": "cb857c76-0ee4-44ec-8fce-683a7164112b",
   "metadata": {},
   "outputs": [],
   "source": []
  }
 ],
 "metadata": {
  "kernelspec": {
   "display_name": "Python 3 (ipykernel)",
   "language": "python",
   "name": "python3"
  },
  "language_info": {
   "codemirror_mode": {
    "name": "ipython",
    "version": 3
   },
   "file_extension": ".py",
   "mimetype": "text/x-python",
   "name": "python",
   "nbconvert_exporter": "python",
   "pygments_lexer": "ipython3",
   "version": "3.8.10"
  }
 },
 "nbformat": 4,
 "nbformat_minor": 5
}
